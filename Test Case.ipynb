{
 "cells": [
  {
   "metadata": {},
   "cell_type": "markdown",
   "source": "# Data Science Test\n",
   "id": "bdaa2b7bfc19b3ca"
  },
  {
   "metadata": {},
   "cell_type": "markdown",
   "source": "## 1. Evaluate the completeness of data\n",
   "id": "e8741d3555d4fe11"
  },
  {
   "metadata": {
    "ExecuteTime": {
     "end_time": "2024-08-14T09:26:57.866511Z",
     "start_time": "2024-08-14T09:26:57.859925Z"
    }
   },
   "cell_type": "code",
   "source": [
    "# Import the necessary libraries\n",
    "import os\n",
    "import pandas as pd\n",
    "import matplotlib.pyplot as plt\n",
    "import numpy as np\n",
    "from ydata_profiling import ProfileReport\n"
   ],
   "id": "961154c095db0c9d",
   "outputs": [],
   "execution_count": 8
  },
  {
   "metadata": {
    "ExecuteTime": {
     "end_time": "2024-08-14T09:27:04.070264Z",
     "start_time": "2024-08-14T09:26:58.010194Z"
    }
   },
   "cell_type": "code",
   "source": [
    "# Load the data from farms.csv\n",
    "df_farm_raw = pd.read_csv('data/farms.csv')\n",
    "\n",
    "# Data profiling for farm.csv\n",
    "farm_profile = ProfileReport(df_farm_raw, title=\"Farm Data Profiling Report\")\n",
    "farm_profile.to_file(\"profile_data/farm_profile.html\")\n"
   ],
   "id": "3fefc4efbc3f04e0",
   "outputs": [
    {
     "data": {
      "text/plain": [
       "Summarize dataset:   0%|          | 0/5 [00:00<?, ?it/s]"
      ],
      "application/vnd.jupyter.widget-view+json": {
       "version_major": 2,
       "version_minor": 0,
       "model_id": "4d276078a7b74281935899e03631e2de"
      }
     },
     "metadata": {},
     "output_type": "display_data"
    },
    {
     "data": {
      "text/plain": [
       "Generate report structure:   0%|          | 0/1 [00:00<?, ?it/s]"
      ],
      "application/vnd.jupyter.widget-view+json": {
       "version_major": 2,
       "version_minor": 0,
       "model_id": "7d3d2fe5c7b24f65a1ad44a96e4e31c5"
      }
     },
     "metadata": {},
     "output_type": "display_data"
    },
    {
     "data": {
      "text/plain": [
       "Render HTML:   0%|          | 0/1 [00:00<?, ?it/s]"
      ],
      "application/vnd.jupyter.widget-view+json": {
       "version_major": 2,
       "version_minor": 0,
       "model_id": "9075fcc434854d00b511e2dbb84d573c"
      }
     },
     "metadata": {},
     "output_type": "display_data"
    },
    {
     "data": {
      "text/plain": [
       "Export report to file:   0%|          | 0/1 [00:00<?, ?it/s]"
      ],
      "application/vnd.jupyter.widget-view+json": {
       "version_major": 2,
       "version_minor": 0,
       "model_id": "0e25282f1d5045458f50c07039cd8683"
      }
     },
     "metadata": {},
     "output_type": "display_data"
    }
   ],
   "execution_count": 9
  },
  {
   "metadata": {
    "ExecuteTime": {
     "end_time": "2024-08-14T09:27:08.439899Z",
     "start_time": "2024-08-14T09:27:04.074537Z"
    }
   },
   "cell_type": "code",
   "source": [
    "# Data correction for farm.csv\n",
    "df_farm = df_farm_raw.dropna().drop_duplicates(subset='id')\n",
    "cleaned_farm_profile = ProfileReport(df_farm, title=\"Farm Data Profiling Report\")\n",
    "cleaned_farm_profile.to_file(\"profile_data/cleaned_farm_profile.html\")\n"
   ],
   "id": "f1e7cb368bdd60c",
   "outputs": [
    {
     "data": {
      "text/plain": [
       "Summarize dataset:   0%|          | 0/5 [00:00<?, ?it/s]"
      ],
      "application/vnd.jupyter.widget-view+json": {
       "version_major": 2,
       "version_minor": 0,
       "model_id": "6bec234a45c249b5b1268b123757572d"
      }
     },
     "metadata": {},
     "output_type": "display_data"
    },
    {
     "data": {
      "text/plain": [
       "Generate report structure:   0%|          | 0/1 [00:00<?, ?it/s]"
      ],
      "application/vnd.jupyter.widget-view+json": {
       "version_major": 2,
       "version_minor": 0,
       "model_id": "cd34ae9843874daa95629b09f7ed5cb3"
      }
     },
     "metadata": {},
     "output_type": "display_data"
    },
    {
     "data": {
      "text/plain": [
       "Render HTML:   0%|          | 0/1 [00:00<?, ?it/s]"
      ],
      "application/vnd.jupyter.widget-view+json": {
       "version_major": 2,
       "version_minor": 0,
       "model_id": "2d15f272cb384d1e8e7e675772fa2b5d"
      }
     },
     "metadata": {},
     "output_type": "display_data"
    },
    {
     "data": {
      "text/plain": [
       "Export report to file:   0%|          | 0/1 [00:00<?, ?it/s]"
      ],
      "application/vnd.jupyter.widget-view+json": {
       "version_major": 2,
       "version_minor": 0,
       "model_id": "91ad086fadbe4c3698286d50b1109380"
      }
     },
     "metadata": {},
     "output_type": "display_data"
    }
   ],
   "execution_count": 10
  },
  {
   "metadata": {
    "ExecuteTime": {
     "end_time": "2024-08-14T09:27:26.677048Z",
     "start_time": "2024-08-14T09:27:08.444219Z"
    }
   },
   "cell_type": "code",
   "source": [
    "# Load the data from ponds.csv\n",
    "df_ponds_raw = pd.read_csv('data/ponds.csv')\n",
    "\n",
    "# Data profiling for ponds.csv\n",
    "ponds_profile = ProfileReport(df_ponds_raw, title=\"Ponds Data Profiling Report\")\n",
    "ponds_profile.to_file(\"profile_data/ponds_profile.html\")\n"
   ],
   "id": "dd84123b35dd09ce",
   "outputs": [
    {
     "data": {
      "text/plain": [
       "Summarize dataset:   0%|          | 0/5 [00:00<?, ?it/s]"
      ],
      "application/vnd.jupyter.widget-view+json": {
       "version_major": 2,
       "version_minor": 0,
       "model_id": "1d754e56a2d14659bc665aaf738d171d"
      }
     },
     "metadata": {},
     "output_type": "display_data"
    },
    {
     "data": {
      "text/plain": [
       "Generate report structure:   0%|          | 0/1 [00:00<?, ?it/s]"
      ],
      "application/vnd.jupyter.widget-view+json": {
       "version_major": 2,
       "version_minor": 0,
       "model_id": "ef20dfd842f84956a232364ecc3ba22f"
      }
     },
     "metadata": {},
     "output_type": "display_data"
    },
    {
     "data": {
      "text/plain": [
       "Render HTML:   0%|          | 0/1 [00:00<?, ?it/s]"
      ],
      "application/vnd.jupyter.widget-view+json": {
       "version_major": 2,
       "version_minor": 0,
       "model_id": "102f677ae96d41c19431fe1cf85d11f6"
      }
     },
     "metadata": {},
     "output_type": "display_data"
    },
    {
     "data": {
      "text/plain": [
       "Export report to file:   0%|          | 0/1 [00:00<?, ?it/s]"
      ],
      "application/vnd.jupyter.widget-view+json": {
       "version_major": 2,
       "version_minor": 0,
       "model_id": "bd0a68a61c894d19815e6471ecf0adb3"
      }
     },
     "metadata": {},
     "output_type": "display_data"
    }
   ],
   "execution_count": 11
  },
  {
   "metadata": {
    "ExecuteTime": {
     "end_time": "2024-08-14T09:27:37.630897Z",
     "start_time": "2024-08-14T09:27:26.682110Z"
    }
   },
   "cell_type": "code",
   "source": [
    "# Clean the data from ponds.csv\n",
    "df_ponds = df_ponds_raw.dropna(subset=['id', 'length', 'width', 'deep', 'farm_id']).drop_duplicates(subset='id')\n",
    "df_ponds = df_ponds[['id', 'length', 'width', 'deep', 'farm_id']]\n",
    "cleaned_ponds_profile = ProfileReport(df_ponds, title=\"Ponds Data Profiling Report\")\n",
    "cleaned_ponds_profile.to_file(\"profile_data/cleaned_ponds_profile.html\")\n"
   ],
   "id": "65e5f31a58425692",
   "outputs": [
    {
     "data": {
      "text/plain": [
       "Summarize dataset:   0%|          | 0/5 [00:00<?, ?it/s]"
      ],
      "application/vnd.jupyter.widget-view+json": {
       "version_major": 2,
       "version_minor": 0,
       "model_id": "ccec7a0152df41228d34b573842c765d"
      }
     },
     "metadata": {},
     "output_type": "display_data"
    },
    {
     "data": {
      "text/plain": [
       "Generate report structure:   0%|          | 0/1 [00:00<?, ?it/s]"
      ],
      "application/vnd.jupyter.widget-view+json": {
       "version_major": 2,
       "version_minor": 0,
       "model_id": "f040f995e18747d2b5a64888d64cedd5"
      }
     },
     "metadata": {},
     "output_type": "display_data"
    },
    {
     "data": {
      "text/plain": [
       "Render HTML:   0%|          | 0/1 [00:00<?, ?it/s]"
      ],
      "application/vnd.jupyter.widget-view+json": {
       "version_major": 2,
       "version_minor": 0,
       "model_id": "655929c4816e45eb884a7dade8d719bd"
      }
     },
     "metadata": {},
     "output_type": "display_data"
    },
    {
     "data": {
      "text/plain": [
       "Export report to file:   0%|          | 0/1 [00:00<?, ?it/s]"
      ],
      "application/vnd.jupyter.widget-view+json": {
       "version_major": 2,
       "version_minor": 0,
       "model_id": "b1c37c28aba349d6bbd263977a29ad5c"
      }
     },
     "metadata": {},
     "output_type": "display_data"
    }
   ],
   "execution_count": 12
  },
  {
   "metadata": {
    "ExecuteTime": {
     "end_time": "2024-08-14T09:28:31.777543Z",
     "start_time": "2024-08-14T09:27:37.636127Z"
    }
   },
   "cell_type": "code",
   "source": [
    "# Load the data from cycles.csv\n",
    "df_cycles_raw = pd.read_csv('data/cycles.csv')\n",
    "\n",
    "# Data profiling for cycles.csv\n",
    "cycles_profile = ProfileReport(df_cycles_raw, title=\"Cycles Data Profiling Report\")\n",
    "cycles_profile.to_file(\"profile_data/cycles_profile.html\")\n"
   ],
   "id": "7276bc8081f43044",
   "outputs": [
    {
     "data": {
      "text/plain": [
       "Summarize dataset:   0%|          | 0/5 [00:00<?, ?it/s]"
      ],
      "application/vnd.jupyter.widget-view+json": {
       "version_major": 2,
       "version_minor": 0,
       "model_id": "10b9c82a99d44a50a0ec74fb2ed5b56d"
      }
     },
     "metadata": {},
     "output_type": "display_data"
    },
    {
     "data": {
      "text/plain": [
       "Generate report structure:   0%|          | 0/1 [00:00<?, ?it/s]"
      ],
      "application/vnd.jupyter.widget-view+json": {
       "version_major": 2,
       "version_minor": 0,
       "model_id": "70e918157d254c37a81b173ec90fbd32"
      }
     },
     "metadata": {},
     "output_type": "display_data"
    },
    {
     "data": {
      "text/plain": [
       "Render HTML:   0%|          | 0/1 [00:00<?, ?it/s]"
      ],
      "application/vnd.jupyter.widget-view+json": {
       "version_major": 2,
       "version_minor": 0,
       "model_id": "46683ceae7e1487d99a11772802b2f54"
      }
     },
     "metadata": {},
     "output_type": "display_data"
    },
    {
     "data": {
      "text/plain": [
       "Export report to file:   0%|          | 0/1 [00:00<?, ?it/s]"
      ],
      "application/vnd.jupyter.widget-view+json": {
       "version_major": 2,
       "version_minor": 0,
       "model_id": "fbf8b38572f74f38a329c0f3b2c366a2"
      }
     },
     "metadata": {},
     "output_type": "display_data"
    }
   ],
   "execution_count": 13
  },
  {
   "metadata": {
    "ExecuteTime": {
     "end_time": "2024-08-14T09:28:41.044179Z",
     "start_time": "2024-08-14T09:28:31.780077Z"
    }
   },
   "cell_type": "code",
   "source": [
    "# Clean the data from cycles.csv\n",
    "df_cycles = df_cycles_raw[['id', 'pond_id', 'started_at', 'finished_at', 'total_seed', 'area']].dropna()\n",
    "cleaned_cycles_profile = ProfileReport(df_cycles, title=\"Cycles Data Profiling Report\")\n",
    "cleaned_cycles_profile.to_file(\"profile_data/cleaned_cycles_profile.html\")\n"
   ],
   "id": "b61c7560bd4fc18b",
   "outputs": [
    {
     "data": {
      "text/plain": [
       "Summarize dataset:   0%|          | 0/5 [00:00<?, ?it/s]"
      ],
      "application/vnd.jupyter.widget-view+json": {
       "version_major": 2,
       "version_minor": 0,
       "model_id": "73231d07aa5a4a8cb7647c3542226ff7"
      }
     },
     "metadata": {},
     "output_type": "display_data"
    },
    {
     "data": {
      "text/plain": [
       "Generate report structure:   0%|          | 0/1 [00:00<?, ?it/s]"
      ],
      "application/vnd.jupyter.widget-view+json": {
       "version_major": 2,
       "version_minor": 0,
       "model_id": "564f78e2cdd243e8b8611523e94599a8"
      }
     },
     "metadata": {},
     "output_type": "display_data"
    },
    {
     "data": {
      "text/plain": [
       "Render HTML:   0%|          | 0/1 [00:00<?, ?it/s]"
      ],
      "application/vnd.jupyter.widget-view+json": {
       "version_major": 2,
       "version_minor": 0,
       "model_id": "dc0a0fecbd6a442683d810d7dc0fc73c"
      }
     },
     "metadata": {},
     "output_type": "display_data"
    },
    {
     "data": {
      "text/plain": [
       "Export report to file:   0%|          | 0/1 [00:00<?, ?it/s]"
      ],
      "application/vnd.jupyter.widget-view+json": {
       "version_major": 2,
       "version_minor": 0,
       "model_id": "648209e9b3034e3bb444cdad386619d3"
      }
     },
     "metadata": {},
     "output_type": "display_data"
    }
   ],
   "execution_count": 14
  },
  {
   "metadata": {
    "ExecuteTime": {
     "end_time": "2024-08-14T09:28:51.308281Z",
     "start_time": "2024-08-14T09:28:41.047693Z"
    }
   },
   "cell_type": "code",
   "source": [
    "# Load the data from feeds.csv\n",
    "df_feed_raw = pd.read_csv('data/feeds.csv')\n",
    "\n",
    "# Data profiling for feeds.csv\n",
    "feed_profile = ProfileReport(df_feed_raw, title=\"Feeds Data Profiling Report\")\n",
    "feed_profile.to_file(\"profile_data/feeds_profile.html\")\n"
   ],
   "id": "e4a2eed0178ebe77",
   "outputs": [
    {
     "data": {
      "text/plain": [
       "Summarize dataset:   0%|          | 0/5 [00:00<?, ?it/s]"
      ],
      "application/vnd.jupyter.widget-view+json": {
       "version_major": 2,
       "version_minor": 0,
       "model_id": "ed08db8f7f0741a883bb98aacf33e0b2"
      }
     },
     "metadata": {},
     "output_type": "display_data"
    },
    {
     "data": {
      "text/plain": [
       "Generate report structure:   0%|          | 0/1 [00:00<?, ?it/s]"
      ],
      "application/vnd.jupyter.widget-view+json": {
       "version_major": 2,
       "version_minor": 0,
       "model_id": "2a310d1015754ece828f858b53977417"
      }
     },
     "metadata": {},
     "output_type": "display_data"
    },
    {
     "data": {
      "text/plain": [
       "Render HTML:   0%|          | 0/1 [00:00<?, ?it/s]"
      ],
      "application/vnd.jupyter.widget-view+json": {
       "version_major": 2,
       "version_minor": 0,
       "model_id": "e16a2ccb987444c39900fbe58df21c32"
      }
     },
     "metadata": {},
     "output_type": "display_data"
    },
    {
     "data": {
      "text/plain": [
       "Export report to file:   0%|          | 0/1 [00:00<?, ?it/s]"
      ],
      "application/vnd.jupyter.widget-view+json": {
       "version_major": 2,
       "version_minor": 0,
       "model_id": "8e63fbf61b724e0fbaa424ff787091df"
      }
     },
     "metadata": {},
     "output_type": "display_data"
    }
   ],
   "execution_count": 15
  },
  {
   "metadata": {
    "ExecuteTime": {
     "end_time": "2024-08-14T09:29:00.234858Z",
     "start_time": "2024-08-14T09:28:51.311050Z"
    }
   },
   "cell_type": "code",
   "source": [
    "# Clean the data from feeds.csv\n",
    "df_feeds = df_feed_raw.dropna()\n",
    "cleaned_feeds_profile = ProfileReport(df_feeds, title=\"Feeds Data Profiling Report\")\n",
    "cleaned_feeds_profile.to_file(\"profile_data/cleaned_feeds_profile.html\")\n"
   ],
   "id": "7947e6e579825879",
   "outputs": [
    {
     "name": "stderr",
     "output_type": "stream",
     "text": [
      "/home/candratama/lib/python3.12/site-packages/ydata_profiling/utils/dataframe.py:137: SettingWithCopyWarning: \n",
      "A value is trying to be set on a copy of a slice from a DataFrame\n",
      "\n",
      "See the caveats in the documentation: https://pandas.pydata.org/pandas-docs/stable/user_guide/indexing.html#returning-a-view-versus-a-copy\n",
      "  df.rename(columns={\"index\": \"df_index\"}, inplace=True)\n"
     ]
    },
    {
     "data": {
      "text/plain": [
       "Summarize dataset:   0%|          | 0/5 [00:00<?, ?it/s]"
      ],
      "application/vnd.jupyter.widget-view+json": {
       "version_major": 2,
       "version_minor": 0,
       "model_id": "0f2ceac8c30946e3a188eacd62376dcc"
      }
     },
     "metadata": {},
     "output_type": "display_data"
    },
    {
     "data": {
      "text/plain": [
       "Generate report structure:   0%|          | 0/1 [00:00<?, ?it/s]"
      ],
      "application/vnd.jupyter.widget-view+json": {
       "version_major": 2,
       "version_minor": 0,
       "model_id": "b64876e620e641b6bfc6641f860f5c1d"
      }
     },
     "metadata": {},
     "output_type": "display_data"
    },
    {
     "data": {
      "text/plain": [
       "Render HTML:   0%|          | 0/1 [00:00<?, ?it/s]"
      ],
      "application/vnd.jupyter.widget-view+json": {
       "version_major": 2,
       "version_minor": 0,
       "model_id": "1a098a62e10f43578d4e23f188e65484"
      }
     },
     "metadata": {},
     "output_type": "display_data"
    },
    {
     "data": {
      "text/plain": [
       "Export report to file:   0%|          | 0/1 [00:00<?, ?it/s]"
      ],
      "application/vnd.jupyter.widget-view+json": {
       "version_major": 2,
       "version_minor": 0,
       "model_id": "4bb9f642dbbb4d8c95cd7614604c988f"
      }
     },
     "metadata": {},
     "output_type": "display_data"
    }
   ],
   "execution_count": 16
  },
  {
   "metadata": {
    "ExecuteTime": {
     "end_time": "2024-08-14T09:29:04.827653Z",
     "start_time": "2024-08-14T09:29:00.240449Z"
    }
   },
   "cell_type": "code",
   "source": [
    "# Load the data from fastings.csv\n",
    "df_fastings_raw = pd.read_csv('data/fastings.csv')\n",
    "\n",
    "# Data profiling for fastings.csv\n",
    "fastings_profile = ProfileReport(df_fastings_raw, title=\"Fastings Data Profiling Report\")\n",
    "fastings_profile.to_file(\"profile_data/fastings_profile.html\")\n"
   ],
   "id": "9a00928eb5c54da7",
   "outputs": [
    {
     "data": {
      "text/plain": [
       "Summarize dataset:   0%|          | 0/5 [00:00<?, ?it/s]"
      ],
      "application/vnd.jupyter.widget-view+json": {
       "version_major": 2,
       "version_minor": 0,
       "model_id": "1482ea468f9c475fab8264d85cdbec3a"
      }
     },
     "metadata": {},
     "output_type": "display_data"
    },
    {
     "data": {
      "text/plain": [
       "Generate report structure:   0%|          | 0/1 [00:00<?, ?it/s]"
      ],
      "application/vnd.jupyter.widget-view+json": {
       "version_major": 2,
       "version_minor": 0,
       "model_id": "941516cbb13b4446b69fea37d9a33ad0"
      }
     },
     "metadata": {},
     "output_type": "display_data"
    },
    {
     "data": {
      "text/plain": [
       "Render HTML:   0%|          | 0/1 [00:00<?, ?it/s]"
      ],
      "application/vnd.jupyter.widget-view+json": {
       "version_major": 2,
       "version_minor": 0,
       "model_id": "87b737c888bc4f0098a6b5029d78cc79"
      }
     },
     "metadata": {},
     "output_type": "display_data"
    },
    {
     "data": {
      "text/plain": [
       "Export report to file:   0%|          | 0/1 [00:00<?, ?it/s]"
      ],
      "application/vnd.jupyter.widget-view+json": {
       "version_major": 2,
       "version_minor": 0,
       "model_id": "7d3e381b0d86490d84670fcbb73cc2ee"
      }
     },
     "metadata": {},
     "output_type": "display_data"
    }
   ],
   "execution_count": 17
  },
  {
   "metadata": {
    "ExecuteTime": {
     "end_time": "2024-08-14T09:29:09.495978Z",
     "start_time": "2024-08-14T09:29:04.832279Z"
    }
   },
   "cell_type": "code",
   "source": [
    "# Clean the data from fastings.csv\n",
    "df_fastings = df_fastings_raw.dropna()\n",
    "cleaned_fastings_profile = ProfileReport(df_fastings, title=\"Fastings Data Profiling Report\")\n",
    "cleaned_fastings_profile.to_file(\"profile_data/cleaned_fastings_profile.html\")\n"
   ],
   "id": "d88770e2ef6ad024",
   "outputs": [
    {
     "name": "stderr",
     "output_type": "stream",
     "text": [
      "/home/candratama/lib/python3.12/site-packages/ydata_profiling/utils/dataframe.py:137: SettingWithCopyWarning: \n",
      "A value is trying to be set on a copy of a slice from a DataFrame\n",
      "\n",
      "See the caveats in the documentation: https://pandas.pydata.org/pandas-docs/stable/user_guide/indexing.html#returning-a-view-versus-a-copy\n",
      "  df.rename(columns={\"index\": \"df_index\"}, inplace=True)\n"
     ]
    },
    {
     "data": {
      "text/plain": [
       "Summarize dataset:   0%|          | 0/5 [00:00<?, ?it/s]"
      ],
      "application/vnd.jupyter.widget-view+json": {
       "version_major": 2,
       "version_minor": 0,
       "model_id": "98fc35fe80f2484e9a86daeda35e223f"
      }
     },
     "metadata": {},
     "output_type": "display_data"
    },
    {
     "data": {
      "text/plain": [
       "Generate report structure:   0%|          | 0/1 [00:00<?, ?it/s]"
      ],
      "application/vnd.jupyter.widget-view+json": {
       "version_major": 2,
       "version_minor": 0,
       "model_id": "edc04d2b2a964d7abc00d926176ad656"
      }
     },
     "metadata": {},
     "output_type": "display_data"
    },
    {
     "data": {
      "text/plain": [
       "Render HTML:   0%|          | 0/1 [00:00<?, ?it/s]"
      ],
      "application/vnd.jupyter.widget-view+json": {
       "version_major": 2,
       "version_minor": 0,
       "model_id": "eee8118e76c445709f496aa0f5fa2060"
      }
     },
     "metadata": {},
     "output_type": "display_data"
    },
    {
     "data": {
      "text/plain": [
       "Export report to file:   0%|          | 0/1 [00:00<?, ?it/s]"
      ],
      "application/vnd.jupyter.widget-view+json": {
       "version_major": 2,
       "version_minor": 0,
       "model_id": "bc64bf1cf83c487a8ea4515293135ab0"
      }
     },
     "metadata": {},
     "output_type": "display_data"
    }
   ],
   "execution_count": 18
  },
  {
   "metadata": {
    "ExecuteTime": {
     "end_time": "2024-08-14T09:29:24.739212Z",
     "start_time": "2024-08-14T09:29:09.498354Z"
    }
   },
   "cell_type": "code",
   "source": [
    "# Load the data from harvests.csv\n",
    "df_harvest_raw = pd.read_csv('data/harvests.csv')\n",
    "\n",
    "# Data profiling for harvests.csv\n",
    "harvest_profile = ProfileReport(df_harvest_raw, title=\"Harvests Data Profiling Report\")\n",
    "harvest_profile.to_file(\"profile_data/harvests_profile.html\")\n"
   ],
   "id": "b58198f99572cee5",
   "outputs": [
    {
     "data": {
      "text/plain": [
       "Summarize dataset:   0%|          | 0/5 [00:00<?, ?it/s]"
      ],
      "application/vnd.jupyter.widget-view+json": {
       "version_major": 2,
       "version_minor": 0,
       "model_id": "3d2a8cc59c0f402693c3211a504adc77"
      }
     },
     "metadata": {},
     "output_type": "display_data"
    },
    {
     "data": {
      "text/plain": [
       "Generate report structure:   0%|          | 0/1 [00:00<?, ?it/s]"
      ],
      "application/vnd.jupyter.widget-view+json": {
       "version_major": 2,
       "version_minor": 0,
       "model_id": "e7f706f57caf453c8f8aedf0945fadac"
      }
     },
     "metadata": {},
     "output_type": "display_data"
    },
    {
     "data": {
      "text/plain": [
       "Render HTML:   0%|          | 0/1 [00:00<?, ?it/s]"
      ],
      "application/vnd.jupyter.widget-view+json": {
       "version_major": 2,
       "version_minor": 0,
       "model_id": "21fc576edcb84ccb94b42e136ecd4605"
      }
     },
     "metadata": {},
     "output_type": "display_data"
    },
    {
     "data": {
      "text/plain": [
       "Export report to file:   0%|          | 0/1 [00:00<?, ?it/s]"
      ],
      "application/vnd.jupyter.widget-view+json": {
       "version_major": 2,
       "version_minor": 0,
       "model_id": "1b0d88b747234a15b52718ce86dd094a"
      }
     },
     "metadata": {},
     "output_type": "display_data"
    }
   ],
   "execution_count": 19
  },
  {
   "metadata": {
    "ExecuteTime": {
     "end_time": "2024-08-14T09:29:32.347308Z",
     "start_time": "2024-08-14T09:29:24.744045Z"
    }
   },
   "cell_type": "code",
   "source": [
    "# Clean the data from harvests.csv\n",
    "df_harvests = df_harvest_raw[['cycle_id', 'harvested_at', 'status', 'size', 'weight']].dropna()\n",
    "cleaned_harvests_profile = ProfileReport(df_harvests, title=\"Harvests Data Profiling Report\")\n",
    "cleaned_harvests_profile.to_file(\"profile_data/cleaned_harvests_profile.html\")\n"
   ],
   "id": "40a5b3eda5720b59",
   "outputs": [
    {
     "data": {
      "text/plain": [
       "Summarize dataset:   0%|          | 0/5 [00:00<?, ?it/s]"
      ],
      "application/vnd.jupyter.widget-view+json": {
       "version_major": 2,
       "version_minor": 0,
       "model_id": "f2e4610fb33343df8a3ce37cdf706d1f"
      }
     },
     "metadata": {},
     "output_type": "display_data"
    },
    {
     "data": {
      "text/plain": [
       "Generate report structure:   0%|          | 0/1 [00:00<?, ?it/s]"
      ],
      "application/vnd.jupyter.widget-view+json": {
       "version_major": 2,
       "version_minor": 0,
       "model_id": "a951c90aa7a74fbd8c497e53a965b3cc"
      }
     },
     "metadata": {},
     "output_type": "display_data"
    },
    {
     "data": {
      "text/plain": [
       "Render HTML:   0%|          | 0/1 [00:00<?, ?it/s]"
      ],
      "application/vnd.jupyter.widget-view+json": {
       "version_major": 2,
       "version_minor": 0,
       "model_id": "638a1a3de84643d59af328d3e92e28e0"
      }
     },
     "metadata": {},
     "output_type": "display_data"
    },
    {
     "data": {
      "text/plain": [
       "Export report to file:   0%|          | 0/1 [00:00<?, ?it/s]"
      ],
      "application/vnd.jupyter.widget-view+json": {
       "version_major": 2,
       "version_minor": 0,
       "model_id": "ba8e9d1b2410416c833ed6c75e741b5e"
      }
     },
     "metadata": {},
     "output_type": "display_data"
    }
   ],
   "execution_count": 20
  },
  {
   "metadata": {
    "ExecuteTime": {
     "end_time": "2024-08-14T09:29:32.957769Z",
     "start_time": "2024-08-14T09:29:32.349664Z"
    }
   },
   "cell_type": "code",
   "source": [
    "# Load the data from measurements.csv\n",
    "df_measurement_raw = pd.read_csv('data/measurements.csv')\n",
    "\n",
    "# Data profiling for measurements.csv\n",
    "measurement_profile = ProfileReport(df_measurement_raw, title=\"Measurements Data Profiling Report\")\n",
    "# measurement_profile.to_file(\"profile_data/measurements_profile.html\")\n"
   ],
   "id": "86b4aef68b15b478",
   "outputs": [],
   "execution_count": 21
  },
  {
   "metadata": {
    "ExecuteTime": {
     "end_time": "2024-08-14T09:31:53.123791Z",
     "start_time": "2024-08-14T09:29:32.959237Z"
    }
   },
   "cell_type": "code",
   "source": [
    "# Clean the data from measurements.csv\n",
    "df_measurement = df_measurement_raw[['cycle_id', 'measured_date', 'morning_temperature', 'evening_temperature', 'morning_do', 'evening_do', 'morning_salinity', 'evening_salinity', 'morning_pH', 'evening_pH', 'transparency', 'ammonia', 'nitrate', 'nitrite', 'alkalinity', 'hardness', 'calcium', 'magnesium', 'carbonate', 'bicarbonate', 'tom', 'total_plankton_']]\n",
    "cleaned_measurement_profile = ProfileReport(df_measurement, title=\"Measurements Data Profiling Report\")\n",
    "cleaned_measurement_profile.to_file(\"profile_data/cleaned_measurements_profile.html\")\n"
   ],
   "id": "48799ce74f4ccb0e",
   "outputs": [
    {
     "name": "stderr",
     "output_type": "stream",
     "text": [
      "/home/candratama/lib/python3.12/site-packages/ydata_profiling/utils/dataframe.py:137: SettingWithCopyWarning: \n",
      "A value is trying to be set on a copy of a slice from a DataFrame\n",
      "\n",
      "See the caveats in the documentation: https://pandas.pydata.org/pandas-docs/stable/user_guide/indexing.html#returning-a-view-versus-a-copy\n",
      "  df.rename(columns={\"index\": \"df_index\"}, inplace=True)\n"
     ]
    },
    {
     "data": {
      "text/plain": [
       "Summarize dataset:   0%|          | 0/5 [00:00<?, ?it/s]"
      ],
      "application/vnd.jupyter.widget-view+json": {
       "version_major": 2,
       "version_minor": 0,
       "model_id": "6ba96b7a6373443a9f433af8398b0a9b"
      }
     },
     "metadata": {},
     "output_type": "display_data"
    },
    {
     "data": {
      "text/plain": [
       "Generate report structure:   0%|          | 0/1 [00:00<?, ?it/s]"
      ],
      "application/vnd.jupyter.widget-view+json": {
       "version_major": 2,
       "version_minor": 0,
       "model_id": "0fefc8f167534007b4c822540498adb0"
      }
     },
     "metadata": {},
     "output_type": "display_data"
    },
    {
     "data": {
      "text/plain": [
       "Render HTML:   0%|          | 0/1 [00:00<?, ?it/s]"
      ],
      "application/vnd.jupyter.widget-view+json": {
       "version_major": 2,
       "version_minor": 0,
       "model_id": "b4e25c7c99c74dbf8520730953fad994"
      }
     },
     "metadata": {},
     "output_type": "display_data"
    },
    {
     "data": {
      "text/plain": [
       "Export report to file:   0%|          | 0/1 [00:00<?, ?it/s]"
      ],
      "application/vnd.jupyter.widget-view+json": {
       "version_major": 2,
       "version_minor": 0,
       "model_id": "62add2f1cf5244698265f8f7bc72e97d"
      }
     },
     "metadata": {},
     "output_type": "display_data"
    }
   ],
   "execution_count": 22
  },
  {
   "metadata": {
    "ExecuteTime": {
     "end_time": "2024-08-14T09:32:03.486805Z",
     "start_time": "2024-08-14T09:31:53.127428Z"
    }
   },
   "cell_type": "code",
   "source": [
    "# Load the data from samplings.csv\n",
    "df_sampling_raw = pd.read_csv('data/samplings.csv')\n",
    "\n",
    "# Data profiling for samplings.csv\n",
    "sampling_profile = ProfileReport(df_sampling_raw, title=\"Samplings Data Profiling Report\")\n",
    "sampling_profile.to_file(\"profile_data/samplings_profile.html\")\n"
   ],
   "id": "fba6dd41ee104e7d",
   "outputs": [
    {
     "data": {
      "text/plain": [
       "Summarize dataset:   0%|          | 0/5 [00:00<?, ?it/s]"
      ],
      "application/vnd.jupyter.widget-view+json": {
       "version_major": 2,
       "version_minor": 0,
       "model_id": "a14cea95ad9043dda6c2f113f849b158"
      }
     },
     "metadata": {},
     "output_type": "display_data"
    },
    {
     "data": {
      "text/plain": [
       "Generate report structure:   0%|          | 0/1 [00:00<?, ?it/s]"
      ],
      "application/vnd.jupyter.widget-view+json": {
       "version_major": 2,
       "version_minor": 0,
       "model_id": "e38261f497c245cd9ed51ac2b3c6f61b"
      }
     },
     "metadata": {},
     "output_type": "display_data"
    },
    {
     "data": {
      "text/plain": [
       "Render HTML:   0%|          | 0/1 [00:00<?, ?it/s]"
      ],
      "application/vnd.jupyter.widget-view+json": {
       "version_major": 2,
       "version_minor": 0,
       "model_id": "aeb9477fdc8a4e61bd4eb902a2085493"
      }
     },
     "metadata": {},
     "output_type": "display_data"
    },
    {
     "data": {
      "text/plain": [
       "Export report to file:   0%|          | 0/1 [00:00<?, ?it/s]"
      ],
      "application/vnd.jupyter.widget-view+json": {
       "version_major": 2,
       "version_minor": 0,
       "model_id": "bb9e8abbca95419eb4ebe048dd5decf1"
      }
     },
     "metadata": {},
     "output_type": "display_data"
    }
   ],
   "execution_count": 23
  },
  {
   "metadata": {
    "ExecuteTime": {
     "end_time": "2024-08-14T09:32:07.884023Z",
     "start_time": "2024-08-14T09:32:03.489530Z"
    }
   },
   "cell_type": "code",
   "source": [
    "# Clean the data from samplings.csv\n",
    "df_sampling = df_sampling_raw[['cycle_id', 'sampled_at', 'average_weight']]\n",
    "cleaned_sampling_profile = ProfileReport(df_sampling, title=\"Samplings Data Profiling Report\")\n",
    "cleaned_sampling_profile.to_file(\"profile_data/cleaned_samplings_profile.html\")\n"
   ],
   "id": "8c85bd34aef700c",
   "outputs": [
    {
     "name": "stderr",
     "output_type": "stream",
     "text": [
      "/home/candratama/lib/python3.12/site-packages/ydata_profiling/utils/dataframe.py:137: SettingWithCopyWarning: \n",
      "A value is trying to be set on a copy of a slice from a DataFrame\n",
      "\n",
      "See the caveats in the documentation: https://pandas.pydata.org/pandas-docs/stable/user_guide/indexing.html#returning-a-view-versus-a-copy\n",
      "  df.rename(columns={\"index\": \"df_index\"}, inplace=True)\n"
     ]
    },
    {
     "data": {
      "text/plain": [
       "Summarize dataset:   0%|          | 0/5 [00:00<?, ?it/s]"
      ],
      "application/vnd.jupyter.widget-view+json": {
       "version_major": 2,
       "version_minor": 0,
       "model_id": "9f9457ffd14140ad938412fccda176ba"
      }
     },
     "metadata": {},
     "output_type": "display_data"
    },
    {
     "data": {
      "text/plain": [
       "Generate report structure:   0%|          | 0/1 [00:00<?, ?it/s]"
      ],
      "application/vnd.jupyter.widget-view+json": {
       "version_major": 2,
       "version_minor": 0,
       "model_id": "a3deb9247f0142db8b798362947d5a7a"
      }
     },
     "metadata": {},
     "output_type": "display_data"
    },
    {
     "data": {
      "text/plain": [
       "Render HTML:   0%|          | 0/1 [00:00<?, ?it/s]"
      ],
      "application/vnd.jupyter.widget-view+json": {
       "version_major": 2,
       "version_minor": 0,
       "model_id": "f0bad9bb457e44549e2106bc15f36229"
      }
     },
     "metadata": {},
     "output_type": "display_data"
    },
    {
     "data": {
      "text/plain": [
       "Export report to file:   0%|          | 0/1 [00:00<?, ?it/s]"
      ],
      "application/vnd.jupyter.widget-view+json": {
       "version_major": 2,
       "version_minor": 0,
       "model_id": "8648fc8ded8c42858534ef02cbde3bd9"
      }
     },
     "metadata": {},
     "output_type": "display_data"
    }
   ],
   "execution_count": 24
  },
  {
   "metadata": {},
   "cell_type": "markdown",
   "source": "## 2. Calculate the Survival Rate (SR) and Average Daily Gain (ADG) for each cycle\n",
   "id": "8214c800e04daec6"
  },
  {
   "metadata": {
    "ExecuteTime": {
     "end_time": "2024-08-14T09:46:51.145327Z",
     "start_time": "2024-08-14T09:46:51.136531Z"
    }
   },
   "cell_type": "code",
   "source": [
    "# Merge the data from cycles.csv and harvests.csv\n",
    "df_merged = pd.merge(df_cycles, df_harvests, left_on='id', right_on='cycle_id', how='inner')"
   ],
   "id": "866562fea5967424",
   "outputs": [],
   "execution_count": 30
  },
  {
   "metadata": {
    "ExecuteTime": {
     "end_time": "2024-08-14T11:21:17.810570Z",
     "start_time": "2024-08-14T11:21:17.312808Z"
    }
   },
   "cell_type": "code",
   "source": [
    "# Group data by 'cycle_id'\n",
    "grouped_df = df_merged.groupby(['cycle_id', 'pond_id']).agg({\n",
    "    'size': 'sum',\n",
    "    'total_seed': 'sum',\n",
    "    'weight': 'sum',\n",
    "    'started_at': 'min',\n",
    "    'harvested_at': 'max'\n",
    "}).reset_index()\n",
    "\n",
    "# Convert the 'started_at' and 'harvested_at' columns to datetime format\n",
    "grouped_df['started_at'] = pd.to_datetime(grouped_df['started_at'])\n",
    "grouped_df['harvested_at'] = pd.to_datetime(grouped_df['harvested_at'])\n",
    "\n",
    "# Calculate the difference in days between 'harvested_at' and 'started_at'\n",
    "grouped_df['days'] = (grouped_df['harvested_at'] - grouped_df['started_at']).dt.days + 1\n",
    "\n",
    "# Calculate the survival rate (SR) and average daily gain (ADG)\n",
    "grouped_df['SR'] = (grouped_df['size'] * grouped_df['weight'] / grouped_df['total_seed']) * 100\n",
    "grouped_df['ADG'] = grouped_df['weight'] / grouped_df['days']\n",
    "\n",
    "# Select the relevant columns\n",
    "df_sr_adg = grouped_df[['cycle_id', 'pond_id', 'size', 'total_seed', 'SR', 'weight', 'days', 'ADG']]"
   ],
   "id": "5a17227d0d888ad3",
   "outputs": [],
   "execution_count": 57
  },
  {
   "metadata": {
    "ExecuteTime": {
     "end_time": "2024-08-14T11:21:24.654749Z",
     "start_time": "2024-08-14T11:21:24.630704Z"
    }
   },
   "cell_type": "code",
   "source": [
    "# Filter out rows where SR is greater than 100%\n",
    "df_sr_adg_cleaned = df_sr_adg[df_sr_adg['SR'] <= 100]\n",
    "\n",
    "# Display the cleaned DataFrame\n",
    "df_sr_adg_cleaned"
   ],
   "id": "90891e4d8116d1f7",
   "outputs": [
    {
     "data": {
      "text/plain": [
       "      cycle_id  pond_id   size  total_seed         SR   weight  days  \\\n",
       "0       3458.0    12969  255.0     2266676  83.057620  7382.93   113   \n",
       "1       3459.0    12996  256.0     2266676  84.186458  7454.04   122   \n",
       "2       4036.0    12685  700.0      344500  89.608128   441.00    40   \n",
       "10      4181.0     9603  436.0      300000  71.940000   495.00    53   \n",
       "11      4233.0    13223  410.0      800000  61.500000  1200.00    60   \n",
       "...        ...      ...    ...         ...        ...      ...   ...   \n",
       "2471   29579.0    35864  387.0      100000  94.234500   243.50    41   \n",
       "2472   29597.0    45690  150.0      400000  46.875000  1250.00    41   \n",
       "2474   29659.0    45493  200.0       75000  16.000000    60.00    33   \n",
       "2476   29873.0    43651   85.0      125000  70.584000  1038.00    77   \n",
       "2477   29874.0    43654   70.0      125000  37.044000   661.50    77   \n",
       "\n",
       "            ADG  \n",
       "0     65.335664  \n",
       "1     61.098689  \n",
       "2     11.025000  \n",
       "10     9.339623  \n",
       "11    20.000000  \n",
       "...         ...  \n",
       "2471   5.939024  \n",
       "2472  30.487805  \n",
       "2474   1.818182  \n",
       "2476  13.480519  \n",
       "2477   8.590909  \n",
       "\n",
       "[1748 rows x 8 columns]"
      ],
      "text/html": [
       "<div>\n",
       "<style scoped>\n",
       "    .dataframe tbody tr th:only-of-type {\n",
       "        vertical-align: middle;\n",
       "    }\n",
       "\n",
       "    .dataframe tbody tr th {\n",
       "        vertical-align: top;\n",
       "    }\n",
       "\n",
       "    .dataframe thead th {\n",
       "        text-align: right;\n",
       "    }\n",
       "</style>\n",
       "<table border=\"1\" class=\"dataframe\">\n",
       "  <thead>\n",
       "    <tr style=\"text-align: right;\">\n",
       "      <th></th>\n",
       "      <th>cycle_id</th>\n",
       "      <th>pond_id</th>\n",
       "      <th>size</th>\n",
       "      <th>total_seed</th>\n",
       "      <th>SR</th>\n",
       "      <th>weight</th>\n",
       "      <th>days</th>\n",
       "      <th>ADG</th>\n",
       "    </tr>\n",
       "  </thead>\n",
       "  <tbody>\n",
       "    <tr>\n",
       "      <th>0</th>\n",
       "      <td>3458.0</td>\n",
       "      <td>12969</td>\n",
       "      <td>255.0</td>\n",
       "      <td>2266676</td>\n",
       "      <td>83.057620</td>\n",
       "      <td>7382.93</td>\n",
       "      <td>113</td>\n",
       "      <td>65.335664</td>\n",
       "    </tr>\n",
       "    <tr>\n",
       "      <th>1</th>\n",
       "      <td>3459.0</td>\n",
       "      <td>12996</td>\n",
       "      <td>256.0</td>\n",
       "      <td>2266676</td>\n",
       "      <td>84.186458</td>\n",
       "      <td>7454.04</td>\n",
       "      <td>122</td>\n",
       "      <td>61.098689</td>\n",
       "    </tr>\n",
       "    <tr>\n",
       "      <th>2</th>\n",
       "      <td>4036.0</td>\n",
       "      <td>12685</td>\n",
       "      <td>700.0</td>\n",
       "      <td>344500</td>\n",
       "      <td>89.608128</td>\n",
       "      <td>441.00</td>\n",
       "      <td>40</td>\n",
       "      <td>11.025000</td>\n",
       "    </tr>\n",
       "    <tr>\n",
       "      <th>10</th>\n",
       "      <td>4181.0</td>\n",
       "      <td>9603</td>\n",
       "      <td>436.0</td>\n",
       "      <td>300000</td>\n",
       "      <td>71.940000</td>\n",
       "      <td>495.00</td>\n",
       "      <td>53</td>\n",
       "      <td>9.339623</td>\n",
       "    </tr>\n",
       "    <tr>\n",
       "      <th>11</th>\n",
       "      <td>4233.0</td>\n",
       "      <td>13223</td>\n",
       "      <td>410.0</td>\n",
       "      <td>800000</td>\n",
       "      <td>61.500000</td>\n",
       "      <td>1200.00</td>\n",
       "      <td>60</td>\n",
       "      <td>20.000000</td>\n",
       "    </tr>\n",
       "    <tr>\n",
       "      <th>...</th>\n",
       "      <td>...</td>\n",
       "      <td>...</td>\n",
       "      <td>...</td>\n",
       "      <td>...</td>\n",
       "      <td>...</td>\n",
       "      <td>...</td>\n",
       "      <td>...</td>\n",
       "      <td>...</td>\n",
       "    </tr>\n",
       "    <tr>\n",
       "      <th>2471</th>\n",
       "      <td>29579.0</td>\n",
       "      <td>35864</td>\n",
       "      <td>387.0</td>\n",
       "      <td>100000</td>\n",
       "      <td>94.234500</td>\n",
       "      <td>243.50</td>\n",
       "      <td>41</td>\n",
       "      <td>5.939024</td>\n",
       "    </tr>\n",
       "    <tr>\n",
       "      <th>2472</th>\n",
       "      <td>29597.0</td>\n",
       "      <td>45690</td>\n",
       "      <td>150.0</td>\n",
       "      <td>400000</td>\n",
       "      <td>46.875000</td>\n",
       "      <td>1250.00</td>\n",
       "      <td>41</td>\n",
       "      <td>30.487805</td>\n",
       "    </tr>\n",
       "    <tr>\n",
       "      <th>2474</th>\n",
       "      <td>29659.0</td>\n",
       "      <td>45493</td>\n",
       "      <td>200.0</td>\n",
       "      <td>75000</td>\n",
       "      <td>16.000000</td>\n",
       "      <td>60.00</td>\n",
       "      <td>33</td>\n",
       "      <td>1.818182</td>\n",
       "    </tr>\n",
       "    <tr>\n",
       "      <th>2476</th>\n",
       "      <td>29873.0</td>\n",
       "      <td>43651</td>\n",
       "      <td>85.0</td>\n",
       "      <td>125000</td>\n",
       "      <td>70.584000</td>\n",
       "      <td>1038.00</td>\n",
       "      <td>77</td>\n",
       "      <td>13.480519</td>\n",
       "    </tr>\n",
       "    <tr>\n",
       "      <th>2477</th>\n",
       "      <td>29874.0</td>\n",
       "      <td>43654</td>\n",
       "      <td>70.0</td>\n",
       "      <td>125000</td>\n",
       "      <td>37.044000</td>\n",
       "      <td>661.50</td>\n",
       "      <td>77</td>\n",
       "      <td>8.590909</td>\n",
       "    </tr>\n",
       "  </tbody>\n",
       "</table>\n",
       "<p>1748 rows × 8 columns</p>\n",
       "</div>"
      ]
     },
     "execution_count": 58,
     "metadata": {},
     "output_type": "execute_result"
    }
   ],
   "execution_count": 58
  },
  {
   "metadata": {
    "ExecuteTime": {
     "end_time": "2024-08-14T11:29:04.580892Z",
     "start_time": "2024-08-14T11:29:04.568033Z"
    }
   },
   "cell_type": "code",
   "source": [
    "# Merge the data from ponds.csv and df_sr_adg_cleaned\n",
    "df_merged_ponds = pd.merge(df_ponds, df_sr_adg_cleaned, left_on='id', right_on='pond_id', how='right')\n",
    "\n",
    "# Merge the data from farms.csv and df_merged_ponds\n",
    "df_merged_farms = pd.merge(df_farm, df_merged_ponds, left_on='id', right_on='farm_id', how='right')\n",
    "\n",
    "# Select the relevant columns\n",
    "df_sr = df_merged_farms[['pond_id', 'province', 'regency', 'size', 'total_seed', 'SR']]\n",
    "df_adg = df_merged_farms[['pond_id','province', 'regency', 'weight', 'days', 'ADG']]"
   ],
   "id": "1b03724645e951ca",
   "outputs": [],
   "execution_count": 71
  },
  {
   "metadata": {
    "ExecuteTime": {
     "end_time": "2024-08-14T11:30:35.899861Z",
     "start_time": "2024-08-14T11:30:35.892061Z"
    }
   },
   "cell_type": "code",
   "source": [
    "# View the DataFrame of Survival Rate (SR)\n",
    "df_sr_with_farm = df_sr.dropna()\n",
    "df_adg_with_farm = df_adg.dropna()"
   ],
   "id": "417f980bd132e489",
   "outputs": [],
   "execution_count": 73
  },
  {
   "metadata": {
    "ExecuteTime": {
     "end_time": "2024-08-14T11:31:57.305808Z",
     "start_time": "2024-08-14T11:31:57.286247Z"
    }
   },
   "cell_type": "code",
   "source": [
    "# View the DataFrame of Survival Rate (SR)\n",
    "print(\"Survival Rate (SR)\")\n",
    "df_sr_with_farm"
   ],
   "id": "f29ec8af049745b8",
   "outputs": [
    {
     "name": "stdout",
     "output_type": "stream",
     "text": [
      "Survival Rate (SR)\n"
     ]
    },
    {
     "data": {
      "text/plain": [
       "      pond_id        province       regency   size  total_seed         SR\n",
       "1562    44566      JAWA TIMUR       PACITAN  353.0      320000  69.971219\n",
       "1563    44516      JAWA TIMUR       PACITAN  375.0      210000  71.169643\n",
       "1564    44517      JAWA TIMUR       PACITAN  309.0      140000  99.045536\n",
       "1565    44585      JAWA TIMUR       PACITAN  324.0      160000  88.816500\n",
       "1566    44588      JAWA TIMUR       PACITAN  170.0      120000  39.950000\n",
       "1567    44586      JAWA TIMUR       PACITAN  316.0      225000  72.174400\n",
       "1568    44587      JAWA TIMUR       PACITAN  370.0      225000  75.759556\n",
       "1714    44544  SULAWESI BARAT  MAMUJU UTARA  330.0      362738  59.133590\n",
       "1716    44548  SULAWESI BARAT  MAMUJU UTARA  468.0     1148588  98.946404\n",
       "1719    44539  SULAWESI BARAT  MAMUJU UTARA   45.0      333500  92.676927\n",
       "1720    44540  SULAWESI BARAT  MAMUJU UTARA   47.0      333500  92.438360\n",
       "1721    44541  SULAWESI BARAT  MAMUJU UTARA   48.0      333500  91.862357\n",
       "1722    44543  SULAWESI BARAT  MAMUJU UTARA   38.0      290000  96.643041\n",
       "1723    44544  SULAWESI BARAT  MAMUJU UTARA   47.0      342900  93.032998\n",
       "1724    44545  SULAWESI BARAT  MAMUJU UTARA   51.0      211000  99.392232\n",
       "1725    44548  SULAWESI BARAT  MAMUJU UTARA   41.0      250000  97.073240"
      ],
      "text/html": [
       "<div>\n",
       "<style scoped>\n",
       "    .dataframe tbody tr th:only-of-type {\n",
       "        vertical-align: middle;\n",
       "    }\n",
       "\n",
       "    .dataframe tbody tr th {\n",
       "        vertical-align: top;\n",
       "    }\n",
       "\n",
       "    .dataframe thead th {\n",
       "        text-align: right;\n",
       "    }\n",
       "</style>\n",
       "<table border=\"1\" class=\"dataframe\">\n",
       "  <thead>\n",
       "    <tr style=\"text-align: right;\">\n",
       "      <th></th>\n",
       "      <th>pond_id</th>\n",
       "      <th>province</th>\n",
       "      <th>regency</th>\n",
       "      <th>size</th>\n",
       "      <th>total_seed</th>\n",
       "      <th>SR</th>\n",
       "    </tr>\n",
       "  </thead>\n",
       "  <tbody>\n",
       "    <tr>\n",
       "      <th>1562</th>\n",
       "      <td>44566</td>\n",
       "      <td>JAWA TIMUR</td>\n",
       "      <td>PACITAN</td>\n",
       "      <td>353.0</td>\n",
       "      <td>320000</td>\n",
       "      <td>69.971219</td>\n",
       "    </tr>\n",
       "    <tr>\n",
       "      <th>1563</th>\n",
       "      <td>44516</td>\n",
       "      <td>JAWA TIMUR</td>\n",
       "      <td>PACITAN</td>\n",
       "      <td>375.0</td>\n",
       "      <td>210000</td>\n",
       "      <td>71.169643</td>\n",
       "    </tr>\n",
       "    <tr>\n",
       "      <th>1564</th>\n",
       "      <td>44517</td>\n",
       "      <td>JAWA TIMUR</td>\n",
       "      <td>PACITAN</td>\n",
       "      <td>309.0</td>\n",
       "      <td>140000</td>\n",
       "      <td>99.045536</td>\n",
       "    </tr>\n",
       "    <tr>\n",
       "      <th>1565</th>\n",
       "      <td>44585</td>\n",
       "      <td>JAWA TIMUR</td>\n",
       "      <td>PACITAN</td>\n",
       "      <td>324.0</td>\n",
       "      <td>160000</td>\n",
       "      <td>88.816500</td>\n",
       "    </tr>\n",
       "    <tr>\n",
       "      <th>1566</th>\n",
       "      <td>44588</td>\n",
       "      <td>JAWA TIMUR</td>\n",
       "      <td>PACITAN</td>\n",
       "      <td>170.0</td>\n",
       "      <td>120000</td>\n",
       "      <td>39.950000</td>\n",
       "    </tr>\n",
       "    <tr>\n",
       "      <th>1567</th>\n",
       "      <td>44586</td>\n",
       "      <td>JAWA TIMUR</td>\n",
       "      <td>PACITAN</td>\n",
       "      <td>316.0</td>\n",
       "      <td>225000</td>\n",
       "      <td>72.174400</td>\n",
       "    </tr>\n",
       "    <tr>\n",
       "      <th>1568</th>\n",
       "      <td>44587</td>\n",
       "      <td>JAWA TIMUR</td>\n",
       "      <td>PACITAN</td>\n",
       "      <td>370.0</td>\n",
       "      <td>225000</td>\n",
       "      <td>75.759556</td>\n",
       "    </tr>\n",
       "    <tr>\n",
       "      <th>1714</th>\n",
       "      <td>44544</td>\n",
       "      <td>SULAWESI BARAT</td>\n",
       "      <td>MAMUJU UTARA</td>\n",
       "      <td>330.0</td>\n",
       "      <td>362738</td>\n",
       "      <td>59.133590</td>\n",
       "    </tr>\n",
       "    <tr>\n",
       "      <th>1716</th>\n",
       "      <td>44548</td>\n",
       "      <td>SULAWESI BARAT</td>\n",
       "      <td>MAMUJU UTARA</td>\n",
       "      <td>468.0</td>\n",
       "      <td>1148588</td>\n",
       "      <td>98.946404</td>\n",
       "    </tr>\n",
       "    <tr>\n",
       "      <th>1719</th>\n",
       "      <td>44539</td>\n",
       "      <td>SULAWESI BARAT</td>\n",
       "      <td>MAMUJU UTARA</td>\n",
       "      <td>45.0</td>\n",
       "      <td>333500</td>\n",
       "      <td>92.676927</td>\n",
       "    </tr>\n",
       "    <tr>\n",
       "      <th>1720</th>\n",
       "      <td>44540</td>\n",
       "      <td>SULAWESI BARAT</td>\n",
       "      <td>MAMUJU UTARA</td>\n",
       "      <td>47.0</td>\n",
       "      <td>333500</td>\n",
       "      <td>92.438360</td>\n",
       "    </tr>\n",
       "    <tr>\n",
       "      <th>1721</th>\n",
       "      <td>44541</td>\n",
       "      <td>SULAWESI BARAT</td>\n",
       "      <td>MAMUJU UTARA</td>\n",
       "      <td>48.0</td>\n",
       "      <td>333500</td>\n",
       "      <td>91.862357</td>\n",
       "    </tr>\n",
       "    <tr>\n",
       "      <th>1722</th>\n",
       "      <td>44543</td>\n",
       "      <td>SULAWESI BARAT</td>\n",
       "      <td>MAMUJU UTARA</td>\n",
       "      <td>38.0</td>\n",
       "      <td>290000</td>\n",
       "      <td>96.643041</td>\n",
       "    </tr>\n",
       "    <tr>\n",
       "      <th>1723</th>\n",
       "      <td>44544</td>\n",
       "      <td>SULAWESI BARAT</td>\n",
       "      <td>MAMUJU UTARA</td>\n",
       "      <td>47.0</td>\n",
       "      <td>342900</td>\n",
       "      <td>93.032998</td>\n",
       "    </tr>\n",
       "    <tr>\n",
       "      <th>1724</th>\n",
       "      <td>44545</td>\n",
       "      <td>SULAWESI BARAT</td>\n",
       "      <td>MAMUJU UTARA</td>\n",
       "      <td>51.0</td>\n",
       "      <td>211000</td>\n",
       "      <td>99.392232</td>\n",
       "    </tr>\n",
       "    <tr>\n",
       "      <th>1725</th>\n",
       "      <td>44548</td>\n",
       "      <td>SULAWESI BARAT</td>\n",
       "      <td>MAMUJU UTARA</td>\n",
       "      <td>41.0</td>\n",
       "      <td>250000</td>\n",
       "      <td>97.073240</td>\n",
       "    </tr>\n",
       "  </tbody>\n",
       "</table>\n",
       "</div>"
      ]
     },
     "execution_count": 77,
     "metadata": {},
     "output_type": "execute_result"
    }
   ],
   "execution_count": 77
  },
  {
   "metadata": {
    "ExecuteTime": {
     "end_time": "2024-08-14T11:31:48.706044Z",
     "start_time": "2024-08-14T11:31:48.687248Z"
    }
   },
   "cell_type": "code",
   "source": [
    "# View the DataFrame of Average Daily Gain (ADG)\n",
    "print(\"Average Daily Gain (ADG)\")\n",
    "df_adg_with_farm"
   ],
   "id": "6595fbf6f0f62d8a",
   "outputs": [
    {
     "name": "stdout",
     "output_type": "stream",
     "text": [
      "Average Daily Gain (ADG)\n"
     ]
    },
    {
     "data": {
      "text/plain": [
       "      pond_id        province       regency   weight  days        ADG\n",
       "1562    44566      JAWA TIMUR       PACITAN   634.30    72   8.809722\n",
       "1563    44516      JAWA TIMUR       PACITAN   398.55    72   5.535417\n",
       "1564    44517      JAWA TIMUR       PACITAN   448.75    72   6.232639\n",
       "1565    44585      JAWA TIMUR       PACITAN   438.60    71   6.177465\n",
       "1566    44588      JAWA TIMUR       PACITAN   282.00    65   4.338462\n",
       "1567    44586      JAWA TIMUR       PACITAN   513.90    71   7.238028\n",
       "1568    44587      JAWA TIMUR       PACITAN   460.70    71   6.488732\n",
       "1714    44544  SULAWESI BARAT  MAMUJU UTARA   650.00    28  23.214286\n",
       "1716    44548  SULAWESI BARAT  MAMUJU UTARA  2428.39    61  39.809672\n",
       "1719    44539  SULAWESI BARAT  MAMUJU UTARA  6868.39   102  67.337157\n",
       "1720    44540  SULAWESI BARAT  MAMUJU UTARA  6559.19   103  63.681456\n",
       "1721    44541  SULAWESI BARAT  MAMUJU UTARA  6382.52   104  61.370385\n",
       "1722    44543  SULAWESI BARAT  MAMUJU UTARA  7375.39   105  70.241810\n",
       "1723    44544  SULAWESI BARAT  MAMUJU UTARA  6787.45   104  65.263942\n",
       "1724    44545  SULAWESI BARAT  MAMUJU UTARA  4112.11   101  40.713960\n",
       "1725    44548  SULAWESI BARAT  MAMUJU UTARA  5919.10   103  57.466990"
      ],
      "text/html": [
       "<div>\n",
       "<style scoped>\n",
       "    .dataframe tbody tr th:only-of-type {\n",
       "        vertical-align: middle;\n",
       "    }\n",
       "\n",
       "    .dataframe tbody tr th {\n",
       "        vertical-align: top;\n",
       "    }\n",
       "\n",
       "    .dataframe thead th {\n",
       "        text-align: right;\n",
       "    }\n",
       "</style>\n",
       "<table border=\"1\" class=\"dataframe\">\n",
       "  <thead>\n",
       "    <tr style=\"text-align: right;\">\n",
       "      <th></th>\n",
       "      <th>pond_id</th>\n",
       "      <th>province</th>\n",
       "      <th>regency</th>\n",
       "      <th>weight</th>\n",
       "      <th>days</th>\n",
       "      <th>ADG</th>\n",
       "    </tr>\n",
       "  </thead>\n",
       "  <tbody>\n",
       "    <tr>\n",
       "      <th>1562</th>\n",
       "      <td>44566</td>\n",
       "      <td>JAWA TIMUR</td>\n",
       "      <td>PACITAN</td>\n",
       "      <td>634.30</td>\n",
       "      <td>72</td>\n",
       "      <td>8.809722</td>\n",
       "    </tr>\n",
       "    <tr>\n",
       "      <th>1563</th>\n",
       "      <td>44516</td>\n",
       "      <td>JAWA TIMUR</td>\n",
       "      <td>PACITAN</td>\n",
       "      <td>398.55</td>\n",
       "      <td>72</td>\n",
       "      <td>5.535417</td>\n",
       "    </tr>\n",
       "    <tr>\n",
       "      <th>1564</th>\n",
       "      <td>44517</td>\n",
       "      <td>JAWA TIMUR</td>\n",
       "      <td>PACITAN</td>\n",
       "      <td>448.75</td>\n",
       "      <td>72</td>\n",
       "      <td>6.232639</td>\n",
       "    </tr>\n",
       "    <tr>\n",
       "      <th>1565</th>\n",
       "      <td>44585</td>\n",
       "      <td>JAWA TIMUR</td>\n",
       "      <td>PACITAN</td>\n",
       "      <td>438.60</td>\n",
       "      <td>71</td>\n",
       "      <td>6.177465</td>\n",
       "    </tr>\n",
       "    <tr>\n",
       "      <th>1566</th>\n",
       "      <td>44588</td>\n",
       "      <td>JAWA TIMUR</td>\n",
       "      <td>PACITAN</td>\n",
       "      <td>282.00</td>\n",
       "      <td>65</td>\n",
       "      <td>4.338462</td>\n",
       "    </tr>\n",
       "    <tr>\n",
       "      <th>1567</th>\n",
       "      <td>44586</td>\n",
       "      <td>JAWA TIMUR</td>\n",
       "      <td>PACITAN</td>\n",
       "      <td>513.90</td>\n",
       "      <td>71</td>\n",
       "      <td>7.238028</td>\n",
       "    </tr>\n",
       "    <tr>\n",
       "      <th>1568</th>\n",
       "      <td>44587</td>\n",
       "      <td>JAWA TIMUR</td>\n",
       "      <td>PACITAN</td>\n",
       "      <td>460.70</td>\n",
       "      <td>71</td>\n",
       "      <td>6.488732</td>\n",
       "    </tr>\n",
       "    <tr>\n",
       "      <th>1714</th>\n",
       "      <td>44544</td>\n",
       "      <td>SULAWESI BARAT</td>\n",
       "      <td>MAMUJU UTARA</td>\n",
       "      <td>650.00</td>\n",
       "      <td>28</td>\n",
       "      <td>23.214286</td>\n",
       "    </tr>\n",
       "    <tr>\n",
       "      <th>1716</th>\n",
       "      <td>44548</td>\n",
       "      <td>SULAWESI BARAT</td>\n",
       "      <td>MAMUJU UTARA</td>\n",
       "      <td>2428.39</td>\n",
       "      <td>61</td>\n",
       "      <td>39.809672</td>\n",
       "    </tr>\n",
       "    <tr>\n",
       "      <th>1719</th>\n",
       "      <td>44539</td>\n",
       "      <td>SULAWESI BARAT</td>\n",
       "      <td>MAMUJU UTARA</td>\n",
       "      <td>6868.39</td>\n",
       "      <td>102</td>\n",
       "      <td>67.337157</td>\n",
       "    </tr>\n",
       "    <tr>\n",
       "      <th>1720</th>\n",
       "      <td>44540</td>\n",
       "      <td>SULAWESI BARAT</td>\n",
       "      <td>MAMUJU UTARA</td>\n",
       "      <td>6559.19</td>\n",
       "      <td>103</td>\n",
       "      <td>63.681456</td>\n",
       "    </tr>\n",
       "    <tr>\n",
       "      <th>1721</th>\n",
       "      <td>44541</td>\n",
       "      <td>SULAWESI BARAT</td>\n",
       "      <td>MAMUJU UTARA</td>\n",
       "      <td>6382.52</td>\n",
       "      <td>104</td>\n",
       "      <td>61.370385</td>\n",
       "    </tr>\n",
       "    <tr>\n",
       "      <th>1722</th>\n",
       "      <td>44543</td>\n",
       "      <td>SULAWESI BARAT</td>\n",
       "      <td>MAMUJU UTARA</td>\n",
       "      <td>7375.39</td>\n",
       "      <td>105</td>\n",
       "      <td>70.241810</td>\n",
       "    </tr>\n",
       "    <tr>\n",
       "      <th>1723</th>\n",
       "      <td>44544</td>\n",
       "      <td>SULAWESI BARAT</td>\n",
       "      <td>MAMUJU UTARA</td>\n",
       "      <td>6787.45</td>\n",
       "      <td>104</td>\n",
       "      <td>65.263942</td>\n",
       "    </tr>\n",
       "    <tr>\n",
       "      <th>1724</th>\n",
       "      <td>44545</td>\n",
       "      <td>SULAWESI BARAT</td>\n",
       "      <td>MAMUJU UTARA</td>\n",
       "      <td>4112.11</td>\n",
       "      <td>101</td>\n",
       "      <td>40.713960</td>\n",
       "    </tr>\n",
       "    <tr>\n",
       "      <th>1725</th>\n",
       "      <td>44548</td>\n",
       "      <td>SULAWESI BARAT</td>\n",
       "      <td>MAMUJU UTARA</td>\n",
       "      <td>5919.10</td>\n",
       "      <td>103</td>\n",
       "      <td>57.466990</td>\n",
       "    </tr>\n",
       "  </tbody>\n",
       "</table>\n",
       "</div>"
      ]
     },
     "execution_count": 76,
     "metadata": {},
     "output_type": "execute_result"
    }
   ],
   "execution_count": 76
  },
  {
   "metadata": {},
   "cell_type": "code",
   "outputs": [],
   "execution_count": null,
   "source": "",
   "id": "4f9191e4ff385218"
  }
 ],
 "metadata": {
  "kernelspec": {
   "display_name": "Python 3",
   "language": "python",
   "name": "python3"
  },
  "language_info": {
   "codemirror_mode": {
    "name": "ipython",
    "version": 2
   },
   "file_extension": ".py",
   "mimetype": "text/x-python",
   "name": "python",
   "nbconvert_exporter": "python",
   "pygments_lexer": "ipython2",
   "version": "2.7.6"
  }
 },
 "nbformat": 4,
 "nbformat_minor": 5
}
